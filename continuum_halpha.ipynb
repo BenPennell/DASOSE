{
 "cells": [
  {
   "cell_type": "markdown",
   "metadata": {},
   "source": [
    "# thing to pull out continuum, halpha images"
   ]
  },
  {
   "cell_type": "code",
   "execution_count": 5,
   "metadata": {},
   "outputs": [],
   "source": [
    "import numpy as np\n",
    "import pipeline as p\n",
    "import os\n",
    "from datetime import datetime"
   ]
  },
  {
   "cell_type": "code",
   "execution_count": 6,
   "metadata": {},
   "outputs": [
    {
     "name": "stdout",
     "output_type": "stream",
     "text": [
      "['A1736C', 'A2219C', 'A2390C', 'A2390NW', 'A2390SE', 'A2465C', 'A2465NE', 'A2465SW', 'RXJ2129C', 'RXJ2129S', 'RXJ2129W', 'ZWCL0823']\n"
     ]
    }
   ],
   "source": [
    "cubes_dir = \"/home/ben.pennell/SITELLE/cubes/output\"\n",
    "cubes_names = os.listdir(cubes_dir) # there are 12 datacubes as of 2023.10.08\n",
    "print(cubes_names)\n",
    "\n",
    "# needed files, with empty gaps for the name of the cubes to be inserted into.\n",
    "lpf_path = cubes_dir + \"/{}/{}_cube_lpf.fits\"\n",
    "segm_path = cubes_dir + \"/{}/{}_segm_MMA_lpf.fits\"\n",
    "elg_list_path = \"/home/ben.pennell/dev/DASOSE/ELG_lists/{}_ELG_list.txt\"\n",
    "\n",
    "REDSHIFTS = [0.2323, 0.2257, 0.228, 0.228, 0.228, 0.245, 0.245, 0.245, 0.2336, 0.2336, 0.2336, 0.2261] # hardcoded, yes"
   ]
  },
  {
   "cell_type": "code",
   "execution_count": 7,
   "metadata": {},
   "outputs": [
    {
     "name": "stdout",
     "output_type": "stream",
     "text": [
      "/output already created. current output folder will be used\n",
      "Directory ./A1736C already exists. Exisitng directory will be used\n",
      "Reusing a couple directories\n",
      "WARNING: Something goofy happened while creating new directories. May result in a crash.\n",
      "PRINTING halpha IMAGES\n",
      "Printing ELG 57...\n",
      "Printing ELG 59...\n",
      "Printing ELG 87...\n",
      "Printing ELG 101...\n",
      "Printing ELG 115...\n",
      "Printing ELG 129...\n",
      "Printing ELG 142...\n",
      "Printing ELG 146...\n",
      "Printing ELG 179...\n",
      "Printing ELG 189...\n",
      "Printing ELG 194...\n",
      "Printing ELG 202...\n",
      "Printing ELG 204...\n",
      "Printing ELG 229...\n",
      "Printing ELG 251...\n",
      "Printing ELG 317...\n",
      "Printing ELG 337...\n",
      "Printing ELG 347...\n",
      "Printing ELG 385...\n",
      "Printing ELG 406...\n",
      "Printing ELG 409...\n",
      "Printing ELG 412...\n",
      "Printing ELG 417...\n",
      "Printing ELG 477...\n",
      "Printing ELG 486...\n",
      "Printing ELG 497...\n",
      "Printing ELG 505...\n",
      "Printing ELG 507...\n",
      "Printing ELG 510...\n",
      "Printing ELG 538...\n",
      "Printing ELG 553...\n",
      "Printing ELG 555...\n",
      "Printing ELG 563...\n",
      "Printing ELG 569...\n",
      "Printing ELG 585...\n",
      "Printing ELG 595...\n",
      "Printing ELG 602...\n",
      "Printing ELG 647...\n",
      "Printing ELG 677...\n",
      "Printing ELG 701...\n",
      "Printing ELG 703...\n",
      "Printing ELG 707...\n",
      "Printing ELG 722...\n",
      "Printing ELG 725...\n",
      "Printing ELG 727...\n",
      "Printing ELG 728...\n",
      "Printing ELG 760...\n",
      "Printing ELG 779...\n",
      "Printing ELG 781...\n",
      "Printing ELG 785...\n",
      "Printing ELG 790...\n",
      "Printing ELG 793...\n",
      "Printing ELG 808...\n",
      "Printing ELG 820...\n",
      "Printing ELG 821...\n",
      "Printing ELG 828...\n",
      "Printing ELG 830...\n",
      "Printing ELG 838...\n",
      "Printing ELG 852...\n",
      "Printing ELG 866...\n",
      "Printing ELG 887...\n",
      "Printing ELG 896...\n",
      "Printing ELG 900...\n",
      "Printing ELG 915...\n",
      "Printing ELG 950...\n",
      "Printing ELG 1024...\n",
      "Printing ELG 1050...\n",
      "Printing ELG 1056...\n"
     ]
    },
    {
     "data": {
      "text/plain": [
       "<Figure size 504x252 with 0 Axes>"
      ]
     },
     "metadata": {},
     "output_type": "display_data"
    }
   ],
   "source": [
    "for i, name in enumerate(cubes_names):\n",
    "    drawer = p.ELG_Drawer(name, lpf_path.format(name, name), elg_list_path=elg_list_path.format(name), segm=segm_path.format(name, name), redshift=REDSHIFTS[i], z_column=8, med_flux_col=9)\n",
    "    drawer.generate_images(['halpha'], algorithm='sum')\n",
    "    break"
   ]
  }
 ],
 "metadata": {
  "kernelspec": {
   "display_name": "astroconda",
   "language": "python",
   "name": "python3"
  },
  "language_info": {
   "codemirror_mode": {
    "name": "ipython",
    "version": 3
   },
   "file_extension": ".py",
   "mimetype": "text/x-python",
   "name": "python",
   "nbconvert_exporter": "python",
   "pygments_lexer": "ipython3",
   "version": "3.7.11"
  }
 },
 "nbformat": 4,
 "nbformat_minor": 2
}
