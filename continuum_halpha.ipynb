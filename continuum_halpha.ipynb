{
 "cells": [
  {
   "cell_type": "markdown",
   "metadata": {},
   "source": [
    "# thing to pull out continuum, halpha images"
   ]
  },
  {
   "cell_type": "code",
   "execution_count": 1,
   "metadata": {},
   "outputs": [],
   "source": [
    "import numpy as np\n",
    "import pipeline as p\n",
    "import os\n",
    "from datetime import datetime"
   ]
  },
  {
   "cell_type": "code",
   "execution_count": 2,
   "metadata": {},
   "outputs": [
    {
     "name": "stdout",
     "output_type": "stream",
     "text": [
      "['A1736C', 'A2219C', 'A2390C', 'A2390NW', 'A2390SE', 'A2465C', 'A2465NE', 'A2465SW', 'RXJ2129C', 'RXJ2129S', 'RXJ2129W', 'ZWCL0823']\n"
     ]
    }
   ],
   "source": [
    "cubes_dir = \"/home/ben.pennell/SITELLE/cubes/output\"\n",
    "cubes_names = os.listdir(cubes_dir) # there are 12 datacubes as of 2023.10.08\n",
    "print(cubes_names)\n",
    "\n",
    "# needed files, with empty gaps for the name of the cubes to be inserted into.\n",
    "lpf_path = cubes_dir + \"/{}/{}_cube_lpf.fits\"\n",
    "segm_path = cubes_dir + \"/{}/{}_segm_MMA_lpf.fits\"\n",
    "elg_list_path = \"/home/ben.pennell/dev/DASOSE/ELG_lists/{}_ELG_list.txt\"\n",
    "\n",
    "REDSHIFTS = [0.2323, 0.2257, 0.228, 0.228, 0.228, 0.245, 0.245, 0.245, 0.2336, 0.2336, 0.2336, 0.2261] # hardcoded, yes"
   ]
  },
  {
   "cell_type": "markdown",
   "metadata": {},
   "source": [
    "### Get images\n",
    "It doesn't work!"
   ]
  },
  {
   "cell_type": "code",
   "execution_count": null,
   "metadata": {},
   "outputs": [],
   "source": [
    "for i, name in enumerate(cubes_names):\n",
    "    drawer = p.ELG_Drawer(name, lpf_path.format(name, name), elg_list_path=elg_list_path.format(name), segm=segm_path.format(name, name), redshift=REDSHIFTS[i], z_column=8, med_flux_col=9)\n",
    "    drawer.generate_images(['halpha'], algorithm='sum')"
   ]
  },
  {
   "cell_type": "markdown",
   "metadata": {},
   "source": [
    "### Create Catalogue\n",
    "It might work!"
   ]
  },
  {
   "cell_type": "code",
   "execution_count": 3,
   "metadata": {},
   "outputs": [
    {
     "name": "stdout",
     "output_type": "stream",
     "text": [
      "/output already created. current output folder will be used\n",
      "Directory ./A1736C already exists. Exisitng directory will be used\n",
      "Reusing a couple directories\n",
      "Calculating ELG 57...\n",
      "Calculating ELG 59...\n",
      "Calculating ELG 87...\n",
      "Calculating ELG 101...\n",
      "Calculating ELG 115...\n",
      "Calculating ELG 129...\n",
      "Calculating ELG 142...\n",
      "Calculating ELG 146...\n",
      "Calculating ELG 179...\n",
      "Calculating ELG 189...\n",
      "Calculating ELG 194...\n",
      "Calculating ELG 202...\n",
      "Calculating ELG 204...\n",
      "Calculating ELG 229...\n",
      "Calculating ELG 251...\n",
      "Calculating ELG 317...\n",
      "Calculating ELG 337...\n",
      "Calculating ELG 347...\n",
      "Calculating ELG 385...\n",
      "Calculating ELG 406...\n",
      "Calculating ELG 409...\n",
      "Calculating ELG 412...\n",
      "Calculating ELG 417...\n",
      "Calculating ELG 477...\n",
      "Calculating ELG 486...\n",
      "Calculating ELG 497...\n",
      "Calculating ELG 505...\n",
      "Calculating ELG 507...\n",
      "Calculating ELG 510...\n",
      "Calculating ELG 538...\n",
      "Calculating ELG 553...\n",
      "Calculating ELG 555...\n",
      "Calculating ELG 563...\n",
      "Calculating ELG 569...\n",
      "Calculating ELG 585...\n",
      "Calculating ELG 595...\n",
      "Calculating ELG 602...\n",
      "Calculating ELG 647...\n",
      "Calculating ELG 677...\n",
      "Calculating ELG 701...\n",
      "Calculating ELG 703...\n",
      "Calculating ELG 707...\n",
      "Calculating ELG 722...\n",
      "Calculating ELG 725...\n",
      "Calculating ELG 727...\n",
      "Calculating ELG 728...\n",
      "Calculating ELG 760...\n",
      "Calculating ELG 779...\n",
      "Calculating ELG 781...\n",
      "Calculating ELG 785...\n",
      "Calculating ELG 790...\n",
      "Calculating ELG 793...\n",
      "Calculating ELG 808...\n",
      "Calculating ELG 820...\n",
      "Calculating ELG 821...\n",
      "Calculating ELG 828...\n",
      "Calculating ELG 830...\n",
      "Calculating ELG 838...\n",
      "Calculating ELG 852...\n",
      "Calculating ELG 866...\n",
      "Calculating ELG 887...\n",
      "Calculating ELG 896...\n",
      "Calculating ELG 900...\n",
      "Calculating ELG 915...\n",
      "Calculating ELG 950...\n",
      "Calculating ELG 1024...\n",
      "Calculating ELG 1050...\n",
      "Calculating ELG 1056...\n"
     ]
    },
    {
     "ename": "AttributeError",
     "evalue": "'ELG_Drawer' object has no attribute 'outpath'",
     "output_type": "error",
     "traceback": [
      "\u001b[0;31m---------------------------------------------------------------------------\u001b[0m",
      "\u001b[0;31mAttributeError\u001b[0m                            Traceback (most recent call last)",
      "\u001b[0;32m/tmp/ipykernel_27930/871552616.py\u001b[0m in \u001b[0;36m<module>\u001b[0;34m\u001b[0m\n\u001b[1;32m      1\u001b[0m \u001b[0;32mfor\u001b[0m \u001b[0mi\u001b[0m\u001b[0;34m,\u001b[0m \u001b[0mname\u001b[0m \u001b[0;32min\u001b[0m \u001b[0menumerate\u001b[0m\u001b[0;34m(\u001b[0m\u001b[0mcubes_names\u001b[0m\u001b[0;34m)\u001b[0m\u001b[0;34m:\u001b[0m\u001b[0;34m\u001b[0m\u001b[0;34m\u001b[0m\u001b[0m\n\u001b[1;32m      2\u001b[0m     \u001b[0mdrawer\u001b[0m \u001b[0;34m=\u001b[0m \u001b[0mp\u001b[0m\u001b[0;34m.\u001b[0m\u001b[0mELG_Drawer\u001b[0m\u001b[0;34m(\u001b[0m\u001b[0mname\u001b[0m\u001b[0;34m,\u001b[0m \u001b[0mlpf_path\u001b[0m\u001b[0;34m.\u001b[0m\u001b[0mformat\u001b[0m\u001b[0;34m(\u001b[0m\u001b[0mname\u001b[0m\u001b[0;34m,\u001b[0m \u001b[0mname\u001b[0m\u001b[0;34m)\u001b[0m\u001b[0;34m,\u001b[0m \u001b[0melg_list_path\u001b[0m\u001b[0;34m=\u001b[0m\u001b[0melg_list_path\u001b[0m\u001b[0;34m.\u001b[0m\u001b[0mformat\u001b[0m\u001b[0;34m(\u001b[0m\u001b[0mname\u001b[0m\u001b[0;34m)\u001b[0m\u001b[0;34m,\u001b[0m \u001b[0msegm\u001b[0m\u001b[0;34m=\u001b[0m\u001b[0msegm_path\u001b[0m\u001b[0;34m.\u001b[0m\u001b[0mformat\u001b[0m\u001b[0;34m(\u001b[0m\u001b[0mname\u001b[0m\u001b[0;34m,\u001b[0m \u001b[0mname\u001b[0m\u001b[0;34m)\u001b[0m\u001b[0;34m,\u001b[0m \u001b[0mredshift\u001b[0m\u001b[0;34m=\u001b[0m\u001b[0mREDSHIFTS\u001b[0m\u001b[0;34m[\u001b[0m\u001b[0mi\u001b[0m\u001b[0;34m]\u001b[0m\u001b[0;34m,\u001b[0m \u001b[0mz_column\u001b[0m\u001b[0;34m=\u001b[0m\u001b[0;36m8\u001b[0m\u001b[0;34m,\u001b[0m \u001b[0mmed_flux_col\u001b[0m\u001b[0;34m=\u001b[0m\u001b[0;36m9\u001b[0m\u001b[0;34m)\u001b[0m\u001b[0;34m\u001b[0m\u001b[0;34m\u001b[0m\u001b[0m\n\u001b[0;32m----> 3\u001b[0;31m     \u001b[0mdrawer\u001b[0m\u001b[0;34m.\u001b[0m\u001b[0melg_brightness_catalogue\u001b[0m\u001b[0;34m(\u001b[0m\u001b[0malgorithm\u001b[0m\u001b[0;34m=\u001b[0m\u001b[0;34m'sum'\u001b[0m\u001b[0;34m)\u001b[0m\u001b[0;34m\u001b[0m\u001b[0;34m\u001b[0m\u001b[0m\n\u001b[0m",
      "\u001b[0;32m~/dev/DASOSE/pipeline.py\u001b[0m in \u001b[0;36melg_brightness_catalogue\u001b[0;34m(self, algorithm, elg_list_path)\u001b[0m\n\u001b[1;32m    600\u001b[0m             \u001b[0mbrightnesses\u001b[0m\u001b[0;34m.\u001b[0m\u001b[0mappend\u001b[0m\u001b[0;34m(\u001b[0m\u001b[0mbrightness\u001b[0m\u001b[0;34m)\u001b[0m\u001b[0;34m\u001b[0m\u001b[0;34m\u001b[0m\u001b[0m\n\u001b[1;32m    601\u001b[0m \u001b[0;34m\u001b[0m\u001b[0m\n\u001b[0;32m--> 602\u001b[0;31m         \u001b[0mnp\u001b[0m\u001b[0;34m.\u001b[0m\u001b[0msavetxt\u001b[0m\u001b[0;34m(\u001b[0m\u001b[0;34m\"{}/{}brightnesses\"\u001b[0m\u001b[0;34m.\u001b[0m\u001b[0mformat\u001b[0m\u001b[0;34m(\u001b[0m\u001b[0mself\u001b[0m\u001b[0;34m.\u001b[0m\u001b[0moutpath\u001b[0m\u001b[0;34m,\u001b[0m \u001b[0mself\u001b[0m\u001b[0;34m.\u001b[0m\u001b[0mname\u001b[0m\u001b[0;34m)\u001b[0m\u001b[0;34m,\u001b[0m \u001b[0mnp\u001b[0m\u001b[0;34m.\u001b[0m\u001b[0mc_\u001b[0m\u001b[0;34m[\u001b[0m\u001b[0melgnames\u001b[0m\u001b[0;34m,\u001b[0m \u001b[0mbrightnesses\u001b[0m\u001b[0;34m]\u001b[0m\u001b[0;34m)\u001b[0m\u001b[0;34m\u001b[0m\u001b[0;34m\u001b[0m\u001b[0m\n\u001b[0m\u001b[1;32m    603\u001b[0m \u001b[0;34m\u001b[0m\u001b[0m\n\u001b[1;32m    604\u001b[0m     \u001b[0;32mdef\u001b[0m \u001b[0mgenerate_images\u001b[0m\u001b[0;34m(\u001b[0m\u001b[0mself\u001b[0m\u001b[0;34m,\u001b[0m \u001b[0mimage_types\u001b[0m\u001b[0;34m,\u001b[0m \u001b[0malgorithm\u001b[0m\u001b[0;34m=\u001b[0m\u001b[0;34m'sum'\u001b[0m\u001b[0;34m,\u001b[0m \u001b[0melg_list_path\u001b[0m\u001b[0;34m=\u001b[0m\u001b[0;32mNone\u001b[0m\u001b[0;34m)\u001b[0m\u001b[0;34m:\u001b[0m\u001b[0;34m\u001b[0m\u001b[0;34m\u001b[0m\u001b[0m\n",
      "\u001b[0;31mAttributeError\u001b[0m: 'ELG_Drawer' object has no attribute 'outpath'"
     ]
    }
   ],
   "source": [
    "for i, name in enumerate(cubes_names):\n",
    "    drawer = p.ELG_Drawer(name, lpf_path.format(name, name), elg_list_path=elg_list_path.format(name), segm=segm_path.format(name, name), redshift=REDSHIFTS[i], z_column=8, med_flux_col=9)\n",
    "    drawer.elg_brightness_catalogue(algorithm='sum')"
   ]
  }
 ],
 "metadata": {
  "kernelspec": {
   "display_name": "astroconda",
   "language": "python",
   "name": "python3"
  },
  "language_info": {
   "codemirror_mode": {
    "name": "ipython",
    "version": 3
   },
   "file_extension": ".py",
   "mimetype": "text/x-python",
   "name": "python",
   "nbconvert_exporter": "python",
   "pygments_lexer": "ipython3",
   "version": "3.7.11"
  }
 },
 "nbformat": 4,
 "nbformat_minor": 2
}
