{
 "cells": [
  {
   "cell_type": "markdown",
   "metadata": {},
   "source": [
    "# thing to pull out continuum, halpha images"
   ]
  },
  {
   "cell_type": "code",
   "execution_count": 4,
   "metadata": {},
   "outputs": [],
   "source": [
    "import numpy as np\n",
    "import pipeline as p\n",
    "import os"
   ]
  },
  {
   "cell_type": "code",
   "execution_count": 10,
   "metadata": {},
   "outputs": [
    {
     "name": "stdout",
     "output_type": "stream",
     "text": [
      "['A1736C', 'A2219C', 'A2390C', 'A2390NW', 'A2390SE', 'A2465C', 'A2465NE', 'A2465SW', 'RXJ2129C', 'RXJ2129S', 'RXJ2129W', 'ZWCL0823']\n",
      "/home/ben.pennell/SITELLE/cubes/output/test_cube_lpf.fits\n"
     ]
    }
   ],
   "source": [
    "cubes_dir = \"/home/ben.pennell/SITELLE/cubes/output\"\n",
    "cubes_names = os.listdir(cubes_dir) # there are 12 datacubes as of 2023.10.08\n",
    "print(cubes_names)\n",
    "lpf_path = cubes_dir + \"/{}_cube_lpf.fits\" # for finding the lpf files"
   ]
  }
 ],
 "metadata": {
  "kernelspec": {
   "display_name": "astroconda",
   "language": "python",
   "name": "python3"
  },
  "language_info": {
   "codemirror_mode": {
    "name": "ipython",
    "version": 3
   },
   "file_extension": ".py",
   "mimetype": "text/x-python",
   "name": "python",
   "nbconvert_exporter": "python",
   "pygments_lexer": "ipython3",
   "version": "3.7.11"
  }
 },
 "nbformat": 4,
 "nbformat_minor": 2
}
