{
 "cells": [
  {
   "cell_type": "markdown",
   "metadata": {},
   "source": [
    "# thing to pull out continuum, halpha images"
   ]
  },
  {
   "cell_type": "code",
   "execution_count": null,
   "metadata": {},
   "outputs": [],
   "source": [
    "import numpy as np\n",
    "import pipeline as p\n",
    "import os\n",
    "from datetime import datetime"
   ]
  },
  {
   "cell_type": "code",
   "execution_count": null,
   "metadata": {},
   "outputs": [],
   "source": [
    "cubes_dir = \"/home/ben.pennell/SITELLE/cubes/output\"\n",
    "gcat_dir = \"/home/ben.pennell/dev/GalaxyCAT\"\n",
    "cubes_names = os.listdir(cubes_dir) # there are 12 datacubes as of 2023.10.08\n",
    "print(cubes_names)\n",
    "\n",
    "# needed files, with empty gaps for the name of the cubes to be inserted into.\n",
    "lpf_path = cubes_dir + \"/{}/{}_cube_lpf.fits\"\n",
    "segm_path = gcat_dir + \"/segm_maps/{}_segm_MMA_lpf.fits\"\n",
    "elg_list_path = gcat_dir + \"/ELG_Lists/{}_ELG_list.txt\"\n",
    "\n",
    "REDSHIFTS = [0.2323, 0.2257, 0.228, 0.228, 0.228, 0.245, 0.245, 0.245, 0.2336, 0.2336, 0.2336, 0.2261] # hardcoded, yes"
   ]
  },
  {
   "cell_type": "markdown",
   "metadata": {},
   "source": [
    "### Get images\n",
    "It doesn't work!"
   ]
  },
  {
   "cell_type": "code",
   "execution_count": null,
   "metadata": {},
   "outputs": [],
   "source": [
    "for i, name in enumerate(cubes_names):\n",
    "    drawer = p.ELG_Drawer(name, lpf_path.format(name, name), elg_list_path=elg_list_path.format(name), segm=segm_path.format(name), redshift=REDSHIFTS[i], z_column=8, med_flux_col=9)\n",
    "    drawer.generate_images(['halpha'], algorithm='sum')"
   ]
  },
  {
   "cell_type": "markdown",
   "metadata": {},
   "source": [
    "### Create Catalogue\n",
    "It might work!"
   ]
  },
  {
   "cell_type": "code",
   "execution_count": null,
   "metadata": {},
   "outputs": [],
   "source": [
    "for i, name in enumerate(cubes_names):\n",
    "    drawer = p.ELG_Drawer(name, lpf_path.format(name, name), elg_list_path=elg_list_path.format(name), segm=segm_path.format(name, name), redshift=REDSHIFTS[i], z_column=8, med_flux_col=9)\n",
    "    drawer.elg_brightness_catalogue(algorithm='sum')"
   ]
  }
 ],
 "metadata": {
  "kernelspec": {
   "display_name": "astroconda",
   "language": "python",
   "name": "python3"
  },
  "language_info": {
   "codemirror_mode": {
    "name": "ipython",
    "version": 3
   },
   "file_extension": ".py",
   "mimetype": "text/x-python",
   "name": "python",
   "nbconvert_exporter": "python",
   "pygments_lexer": "ipython3",
   "version": "3.7.11"
  }
 },
 "nbformat": 4,
 "nbformat_minor": 2
}
